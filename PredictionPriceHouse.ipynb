{
  "nbformat": 4,
  "nbformat_minor": 0,
  "metadata": {
    "colab": {
      "name": "Untitled8.ipynb",
      "provenance": [],
      "collapsed_sections": [],
      "include_colab_link": true
    },
    "kernelspec": {
      "name": "python3",
      "display_name": "Python 3"
    },
    "language_info": {
      "name": "python"
    }
  },
  "cells": [
    {
      "cell_type": "markdown",
      "metadata": {
        "id": "view-in-github",
        "colab_type": "text"
      },
      "source": [
        "<a href=\"https://colab.research.google.com/github/ghaissa/deepL/blob/main/PredictionPriceHouse.ipynb\" target=\"_parent\"><img src=\"https://colab.research.google.com/assets/colab-badge.svg\" alt=\"Open In Colab\"/></a>"
      ]
    },
    {
      "cell_type": "code",
      "execution_count": 49,
      "metadata": {
        "id": "P0R51n1IFlGK"
      },
      "outputs": [],
      "source": [
        "from keras.models import Sequential #initialisation de mon ANN\n",
        "from keras.layers import Dense # pour nous donner le nombre des layers, neurone par layer et fonction d'activa\n",
        "from sklearn.model_selection import train_test_split #pour diviser data training et test \n",
        "from sklearn.preprocessing import MinMaxScaler \n",
        "import matplotlib.pyplot as plt\n",
        "import pandas as pd\n"
      ]
    },
    {
      "cell_type": "code",
      "source": [
        "from google.colab import files\n",
        "uploaded = files.upload()"
      ],
      "metadata": {
        "id": "5daHFJQIGAFj",
        "colab": {
          "resources": {
            "http://localhost:8080/nbextensions/google.colab/files.js": {
              "data": "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",
              "ok": true,
              "headers": [
                [
                  "content-type",
                  "application/javascript"
                ]
              ],
              "status": 200,
              "status_text": ""
            }
          },
          "base_uri": "https://localhost:8080/",
          "height": 74
        },
        "outputId": "c2f376bd-02c2-4f3d-8663-c294b23d01a3"
      },
      "execution_count": 50,
      "outputs": [
        {
          "output_type": "display_data",
          "data": {
            "text/html": [
              "\n",
              "     <input type=\"file\" id=\"files-56385a18-e259-4a80-a9bc-17b410a398a2\" name=\"files[]\" multiple disabled\n",
              "        style=\"border:none\" />\n",
              "     <output id=\"result-56385a18-e259-4a80-a9bc-17b410a398a2\">\n",
              "      Upload widget is only available when the cell has been executed in the\n",
              "      current browser session. Please rerun this cell to enable.\n",
              "      </output>\n",
              "      <script src=\"/nbextensions/google.colab/files.js\"></script> "
            ],
            "text/plain": [
              "<IPython.core.display.HTML object>"
            ]
          },
          "metadata": {}
        },
        {
          "output_type": "stream",
          "name": "stdout",
          "text": [
            "Saving housepricedata.csv to housepricedata.csv\n"
          ]
        }
      ]
    },
    {
      "cell_type": "code",
      "source": [
        "df = pd.read_csv('housepricedata.csv')\n",
        "df.head(7) #afficher les 7 premiers lignes du data "
      ],
      "metadata": {
        "colab": {
          "base_uri": "https://localhost:8080/",
          "height": 269
        },
        "id": "HGTBOHBGBOuP",
        "outputId": "1ff8a1c7-dff5-40fa-ae8d-f7429eb2e65b"
      },
      "execution_count": 51,
      "outputs": [
        {
          "output_type": "execute_result",
          "data": {
            "text/html": [
              "<div>\n",
              "<style scoped>\n",
              "    .dataframe tbody tr th:only-of-type {\n",
              "        vertical-align: middle;\n",
              "    }\n",
              "\n",
              "    .dataframe tbody tr th {\n",
              "        vertical-align: top;\n",
              "    }\n",
              "\n",
              "    .dataframe thead th {\n",
              "        text-align: right;\n",
              "    }\n",
              "</style>\n",
              "<table border=\"1\" class=\"dataframe\">\n",
              "  <thead>\n",
              "    <tr style=\"text-align: right;\">\n",
              "      <th></th>\n",
              "      <th>LotArea</th>\n",
              "      <th>OverallQual</th>\n",
              "      <th>OverallCond</th>\n",
              "      <th>TotalBsmtSF</th>\n",
              "      <th>FullBath</th>\n",
              "      <th>HalfBath</th>\n",
              "      <th>BedroomAbvGr</th>\n",
              "      <th>TotRmsAbvGrd</th>\n",
              "      <th>Fireplaces</th>\n",
              "      <th>GarageArea</th>\n",
              "      <th>AboveMedianPrice</th>\n",
              "    </tr>\n",
              "  </thead>\n",
              "  <tbody>\n",
              "    <tr>\n",
              "      <th>0</th>\n",
              "      <td>8450</td>\n",
              "      <td>7</td>\n",
              "      <td>5</td>\n",
              "      <td>856</td>\n",
              "      <td>2</td>\n",
              "      <td>1</td>\n",
              "      <td>3</td>\n",
              "      <td>8</td>\n",
              "      <td>0</td>\n",
              "      <td>548</td>\n",
              "      <td>1</td>\n",
              "    </tr>\n",
              "    <tr>\n",
              "      <th>1</th>\n",
              "      <td>9600</td>\n",
              "      <td>6</td>\n",
              "      <td>8</td>\n",
              "      <td>1262</td>\n",
              "      <td>2</td>\n",
              "      <td>0</td>\n",
              "      <td>3</td>\n",
              "      <td>6</td>\n",
              "      <td>1</td>\n",
              "      <td>460</td>\n",
              "      <td>1</td>\n",
              "    </tr>\n",
              "    <tr>\n",
              "      <th>2</th>\n",
              "      <td>11250</td>\n",
              "      <td>7</td>\n",
              "      <td>5</td>\n",
              "      <td>920</td>\n",
              "      <td>2</td>\n",
              "      <td>1</td>\n",
              "      <td>3</td>\n",
              "      <td>6</td>\n",
              "      <td>1</td>\n",
              "      <td>608</td>\n",
              "      <td>1</td>\n",
              "    </tr>\n",
              "    <tr>\n",
              "      <th>3</th>\n",
              "      <td>9550</td>\n",
              "      <td>7</td>\n",
              "      <td>5</td>\n",
              "      <td>756</td>\n",
              "      <td>1</td>\n",
              "      <td>0</td>\n",
              "      <td>3</td>\n",
              "      <td>7</td>\n",
              "      <td>1</td>\n",
              "      <td>642</td>\n",
              "      <td>0</td>\n",
              "    </tr>\n",
              "    <tr>\n",
              "      <th>4</th>\n",
              "      <td>14260</td>\n",
              "      <td>8</td>\n",
              "      <td>5</td>\n",
              "      <td>1145</td>\n",
              "      <td>2</td>\n",
              "      <td>1</td>\n",
              "      <td>4</td>\n",
              "      <td>9</td>\n",
              "      <td>1</td>\n",
              "      <td>836</td>\n",
              "      <td>1</td>\n",
              "    </tr>\n",
              "    <tr>\n",
              "      <th>5</th>\n",
              "      <td>14115</td>\n",
              "      <td>5</td>\n",
              "      <td>5</td>\n",
              "      <td>796</td>\n",
              "      <td>1</td>\n",
              "      <td>1</td>\n",
              "      <td>1</td>\n",
              "      <td>5</td>\n",
              "      <td>0</td>\n",
              "      <td>480</td>\n",
              "      <td>0</td>\n",
              "    </tr>\n",
              "    <tr>\n",
              "      <th>6</th>\n",
              "      <td>10084</td>\n",
              "      <td>8</td>\n",
              "      <td>5</td>\n",
              "      <td>1686</td>\n",
              "      <td>2</td>\n",
              "      <td>0</td>\n",
              "      <td>3</td>\n",
              "      <td>7</td>\n",
              "      <td>1</td>\n",
              "      <td>636</td>\n",
              "      <td>1</td>\n",
              "    </tr>\n",
              "  </tbody>\n",
              "</table>\n",
              "</div>"
            ],
            "text/plain": [
              "   LotArea  OverallQual  OverallCond  ...  Fireplaces  GarageArea  AboveMedianPrice\n",
              "0     8450            7            5  ...           0         548                 1\n",
              "1     9600            6            8  ...           1         460                 1\n",
              "2    11250            7            5  ...           1         608                 1\n",
              "3     9550            7            5  ...           1         642                 0\n",
              "4    14260            8            5  ...           1         836                 1\n",
              "5    14115            5            5  ...           0         480                 0\n",
              "6    10084            8            5  ...           1         636                 1\n",
              "\n",
              "[7 rows x 11 columns]"
            ]
          },
          "metadata": {},
          "execution_count": 51
        }
      ]
    },
    {
      "cell_type": "code",
      "source": [
        "#convertit la base en array \n",
        "dataset = df.values\n",
        "dataset"
      ],
      "metadata": {
        "colab": {
          "base_uri": "https://localhost:8080/"
        },
        "id": "cPM0IEW4I6rG",
        "outputId": "587bd2cb-b5b5-43fc-8bbe-6a1ebb1bccff"
      },
      "execution_count": 52,
      "outputs": [
        {
          "output_type": "execute_result",
          "data": {
            "text/plain": [
              "array([[ 8450,     7,     5, ...,     0,   548,     1],\n",
              "       [ 9600,     6,     8, ...,     1,   460,     1],\n",
              "       [11250,     7,     5, ...,     1,   608,     1],\n",
              "       ...,\n",
              "       [ 9042,     7,     9, ...,     2,   252,     1],\n",
              "       [ 9717,     5,     6, ...,     0,   240,     0],\n",
              "       [ 9937,     5,     6, ...,     0,   276,     0]])"
            ]
          },
          "metadata": {},
          "execution_count": 52
        }
      ]
    },
    {
      "cell_type": "code",
      "source": [
        "#diviser la data set en des dependants et des independants sets \n",
        "x = dataset[:, 0:10] #je veux toutes les lignes et les colonnes de index de 0 à 10 ([0,1) )\n",
        "y = dataset[:,10] #toutes les lignes et la derniere colonne \n"
      ],
      "metadata": {
        "id": "6r3-bDAEJjc8"
      },
      "execution_count": 53,
      "outputs": []
    },
    {
      "cell_type": "code",
      "source": [
        "\n",
        "#je veux utiliser la methode min/max scalaire from preprocessing (pré-traitement)\n",
        "#tous les features entre 0 et 1 inclus\n",
        "min_max_scaler = MinMaxScaler()\n",
        "x_scale = min_max_scaler.fit_transform(x)\n",
        "x_scale\n"
      ],
      "metadata": {
        "colab": {
          "base_uri": "https://localhost:8080/"
        },
        "id": "s-C0E67YKvpA",
        "outputId": "922ae746-b7ae-4cf1-f01e-d6d9f6a45e4b"
      },
      "execution_count": 54,
      "outputs": [
        {
          "output_type": "execute_result",
          "data": {
            "text/plain": [
              "array([[0.0334198 , 0.66666667, 0.5       , ..., 0.5       , 0.        ,\n",
              "        0.3864598 ],\n",
              "       [0.03879502, 0.55555556, 0.875     , ..., 0.33333333, 0.33333333,\n",
              "        0.32440056],\n",
              "       [0.04650728, 0.66666667, 0.5       , ..., 0.33333333, 0.33333333,\n",
              "        0.42877292],\n",
              "       ...,\n",
              "       [0.03618687, 0.66666667, 1.        , ..., 0.58333333, 0.66666667,\n",
              "        0.17771509],\n",
              "       [0.03934189, 0.44444444, 0.625     , ..., 0.25      , 0.        ,\n",
              "        0.16925247],\n",
              "       [0.04037019, 0.44444444, 0.625     , ..., 0.33333333, 0.        ,\n",
              "        0.19464034]])"
            ]
          },
          "metadata": {},
          "execution_count": 54
        }
      ]
    },
    {
      "cell_type": "code",
      "source": [
        "#deviser la data to 80% training and 20% (testing 10% et validating 10%)\n",
        "X_train, X_val_and_test, Y_train, Y_val_and_test = train_test_split(x_scale, y, test_size=0.2)\n",
        "X_val, X_test, Y_val, Y_test = train_test_split(X_val_and_test, Y_val_and_test, test_size=0.8)\n",
        "# training set a 17290 points data par contre validation et test set ont 864 point data chacune. \n",
        "#X variabeles a 10 input features, and Y a juste 1 feature  \n",
        "print(X_train.shape, X_val.shape, X_test.shape, Y_train.shape, Y_val.shape, Y_test.shape)\n"
      ],
      "metadata": {
        "colab": {
          "base_uri": "https://localhost:8080/"
        },
        "id": "XAAjORdTkCT_",
        "outputId": "fc5e4975-03ac-4e97-aea2-4ba9727076ef"
      },
      "execution_count": 55,
      "outputs": [
        {
          "output_type": "stream",
          "name": "stdout",
          "text": [
            "(1168, 10) (58, 10) (234, 10) (1168,) (58,) (234,)\n"
          ]
        }
      ]
    },
    {
      "cell_type": "code",
      "source": [
        "\n",
        "# cree notre modele et l'architectures de deep learning network \n",
        "model = Sequential() #initialiser ANN\n",
        "model.add(Dense(units=32, activation='relu', input_dim=10))\n",
        "model.add(Dense(units=32, activation='relu'))\n",
        "model.add(Dense(units=32, activation='relu'))\n",
        "model.add(Dense(units=1, activation='sigmoid'))"
      ],
      "metadata": {
        "id": "D0JWjD8msslu"
      },
      "execution_count": 56,
      "outputs": []
    },
    {
      "cell_type": "code",
      "source": [
        "#mesurer comment le modele fait en training et essayer d'ameliorer en utilisant optimazier\n",
        "model.compile(optimizer='sgd',\n",
        "              loss='binary_crossentropy',\n",
        "              metrics=['accuracy']\n",
        ") "
      ],
      "metadata": {
        "id": "YcGBOKuRye30"
      },
      "execution_count": 57,
      "outputs": []
    },
    {
      "cell_type": "code",
      "source": [
        "#train the model \n",
        "hist = model.fit(\n",
        "    X_train, Y_train,\n",
        "    batch_size=32, epochs=100,\n",
        "    validation_data=(X_val, Y_val)\n",
        ")"
      ],
      "metadata": {
        "colab": {
          "base_uri": "https://localhost:8080/"
        },
        "id": "5m2ATpWO481l",
        "outputId": "ca47da70-089b-45e0-b492-26ea76152cb6"
      },
      "execution_count": 58,
      "outputs": [
        {
          "output_type": "stream",
          "name": "stdout",
          "text": [
            "Epoch 1/100\n",
            "37/37 [==============================] - 1s 7ms/step - loss: 0.6928 - accuracy: 0.5205 - val_loss: 0.6894 - val_accuracy: 0.5517\n",
            "Epoch 2/100\n",
            "37/37 [==============================] - 0s 3ms/step - loss: 0.6872 - accuracy: 0.5497 - val_loss: 0.6832 - val_accuracy: 0.6034\n",
            "Epoch 3/100\n",
            "37/37 [==============================] - 0s 3ms/step - loss: 0.6815 - accuracy: 0.5993 - val_loss: 0.6769 - val_accuracy: 0.6207\n",
            "Epoch 4/100\n",
            "37/37 [==============================] - 0s 2ms/step - loss: 0.6757 - accuracy: 0.6062 - val_loss: 0.6705 - val_accuracy: 0.6724\n",
            "Epoch 5/100\n",
            "37/37 [==============================] - 0s 3ms/step - loss: 0.6698 - accuracy: 0.6010 - val_loss: 0.6642 - val_accuracy: 0.7069\n",
            "Epoch 6/100\n",
            "37/37 [==============================] - 0s 3ms/step - loss: 0.6636 - accuracy: 0.6550 - val_loss: 0.6574 - val_accuracy: 0.7931\n",
            "Epoch 7/100\n",
            "37/37 [==============================] - 0s 3ms/step - loss: 0.6567 - accuracy: 0.7080 - val_loss: 0.6497 - val_accuracy: 0.8103\n",
            "Epoch 8/100\n",
            "37/37 [==============================] - 0s 3ms/step - loss: 0.6492 - accuracy: 0.7200 - val_loss: 0.6423 - val_accuracy: 0.8621\n",
            "Epoch 9/100\n",
            "37/37 [==============================] - 0s 2ms/step - loss: 0.6410 - accuracy: 0.7543 - val_loss: 0.6325 - val_accuracy: 0.8448\n",
            "Epoch 10/100\n",
            "37/37 [==============================] - 0s 3ms/step - loss: 0.6316 - accuracy: 0.7637 - val_loss: 0.6221 - val_accuracy: 0.8448\n",
            "Epoch 11/100\n",
            "37/37 [==============================] - 0s 2ms/step - loss: 0.6212 - accuracy: 0.7680 - val_loss: 0.6107 - val_accuracy: 0.8448\n",
            "Epoch 12/100\n",
            "37/37 [==============================] - 0s 2ms/step - loss: 0.6101 - accuracy: 0.7731 - val_loss: 0.5995 - val_accuracy: 0.8448\n",
            "Epoch 13/100\n",
            "37/37 [==============================] - 0s 3ms/step - loss: 0.5984 - accuracy: 0.7877 - val_loss: 0.5879 - val_accuracy: 0.8621\n",
            "Epoch 14/100\n",
            "37/37 [==============================] - 0s 3ms/step - loss: 0.5861 - accuracy: 0.8108 - val_loss: 0.5747 - val_accuracy: 0.8621\n",
            "Epoch 15/100\n",
            "37/37 [==============================] - 0s 2ms/step - loss: 0.5731 - accuracy: 0.8185 - val_loss: 0.5623 - val_accuracy: 0.8276\n",
            "Epoch 16/100\n",
            "37/37 [==============================] - 0s 3ms/step - loss: 0.5590 - accuracy: 0.8356 - val_loss: 0.5459 - val_accuracy: 0.8621\n",
            "Epoch 17/100\n",
            "37/37 [==============================] - 0s 2ms/step - loss: 0.5450 - accuracy: 0.8313 - val_loss: 0.5331 - val_accuracy: 0.8448\n",
            "Epoch 18/100\n",
            "37/37 [==============================] - 0s 3ms/step - loss: 0.5305 - accuracy: 0.8408 - val_loss: 0.5190 - val_accuracy: 0.8448\n",
            "Epoch 19/100\n",
            "37/37 [==============================] - 0s 3ms/step - loss: 0.5157 - accuracy: 0.8510 - val_loss: 0.5040 - val_accuracy: 0.8448\n",
            "Epoch 20/100\n",
            "37/37 [==============================] - 0s 3ms/step - loss: 0.5005 - accuracy: 0.8553 - val_loss: 0.4897 - val_accuracy: 0.8621\n",
            "Epoch 21/100\n",
            "37/37 [==============================] - 0s 2ms/step - loss: 0.4857 - accuracy: 0.8579 - val_loss: 0.4754 - val_accuracy: 0.8621\n",
            "Epoch 22/100\n",
            "37/37 [==============================] - 0s 2ms/step - loss: 0.4713 - accuracy: 0.8630 - val_loss: 0.4642 - val_accuracy: 0.8966\n",
            "Epoch 23/100\n",
            "37/37 [==============================] - 0s 3ms/step - loss: 0.4567 - accuracy: 0.8630 - val_loss: 0.4462 - val_accuracy: 0.8621\n",
            "Epoch 24/100\n",
            "37/37 [==============================] - 0s 2ms/step - loss: 0.4427 - accuracy: 0.8690 - val_loss: 0.4382 - val_accuracy: 0.8966\n",
            "Epoch 25/100\n",
            "37/37 [==============================] - 0s 3ms/step - loss: 0.4294 - accuracy: 0.8699 - val_loss: 0.4260 - val_accuracy: 0.8966\n",
            "Epoch 26/100\n",
            "37/37 [==============================] - 0s 3ms/step - loss: 0.4163 - accuracy: 0.8716 - val_loss: 0.4074 - val_accuracy: 0.8966\n",
            "Epoch 27/100\n",
            "37/37 [==============================] - 0s 3ms/step - loss: 0.4046 - accuracy: 0.8682 - val_loss: 0.4023 - val_accuracy: 0.8966\n",
            "Epoch 28/100\n",
            "37/37 [==============================] - 0s 2ms/step - loss: 0.3930 - accuracy: 0.8673 - val_loss: 0.3960 - val_accuracy: 0.8966\n",
            "Epoch 29/100\n",
            "37/37 [==============================] - 0s 2ms/step - loss: 0.3833 - accuracy: 0.8733 - val_loss: 0.3806 - val_accuracy: 0.8966\n",
            "Epoch 30/100\n",
            "37/37 [==============================] - 0s 2ms/step - loss: 0.3738 - accuracy: 0.8741 - val_loss: 0.3788 - val_accuracy: 0.8966\n",
            "Epoch 31/100\n",
            "37/37 [==============================] - 0s 2ms/step - loss: 0.3657 - accuracy: 0.8699 - val_loss: 0.3603 - val_accuracy: 0.8966\n",
            "Epoch 32/100\n",
            "37/37 [==============================] - 0s 3ms/step - loss: 0.3580 - accuracy: 0.8716 - val_loss: 0.3576 - val_accuracy: 0.8966\n",
            "Epoch 33/100\n",
            "37/37 [==============================] - 0s 3ms/step - loss: 0.3511 - accuracy: 0.8699 - val_loss: 0.3474 - val_accuracy: 0.8966\n",
            "Epoch 34/100\n",
            "37/37 [==============================] - 0s 3ms/step - loss: 0.3450 - accuracy: 0.8690 - val_loss: 0.3478 - val_accuracy: 0.8966\n",
            "Epoch 35/100\n",
            "37/37 [==============================] - 0s 3ms/step - loss: 0.3399 - accuracy: 0.8707 - val_loss: 0.3373 - val_accuracy: 0.8966\n",
            "Epoch 36/100\n",
            "37/37 [==============================] - 0s 3ms/step - loss: 0.3346 - accuracy: 0.8724 - val_loss: 0.3341 - val_accuracy: 0.8966\n",
            "Epoch 37/100\n",
            "37/37 [==============================] - 0s 2ms/step - loss: 0.3288 - accuracy: 0.8776 - val_loss: 0.3546 - val_accuracy: 0.8966\n",
            "Epoch 38/100\n",
            "37/37 [==============================] - 0s 3ms/step - loss: 0.3266 - accuracy: 0.8776 - val_loss: 0.3394 - val_accuracy: 0.8966\n",
            "Epoch 39/100\n",
            "37/37 [==============================] - 0s 3ms/step - loss: 0.3231 - accuracy: 0.8741 - val_loss: 0.3231 - val_accuracy: 0.8966\n",
            "Epoch 40/100\n",
            "37/37 [==============================] - 0s 2ms/step - loss: 0.3184 - accuracy: 0.8818 - val_loss: 0.3151 - val_accuracy: 0.8793\n",
            "Epoch 41/100\n",
            "37/37 [==============================] - 0s 2ms/step - loss: 0.3170 - accuracy: 0.8784 - val_loss: 0.3122 - val_accuracy: 0.8793\n",
            "Epoch 42/100\n",
            "37/37 [==============================] - 0s 3ms/step - loss: 0.3133 - accuracy: 0.8784 - val_loss: 0.3197 - val_accuracy: 0.8966\n",
            "Epoch 43/100\n",
            "37/37 [==============================] - 0s 2ms/step - loss: 0.3107 - accuracy: 0.8818 - val_loss: 0.3221 - val_accuracy: 0.8966\n",
            "Epoch 44/100\n",
            "37/37 [==============================] - 0s 2ms/step - loss: 0.3095 - accuracy: 0.8818 - val_loss: 0.3084 - val_accuracy: 0.8966\n",
            "Epoch 45/100\n",
            "37/37 [==============================] - 0s 2ms/step - loss: 0.3075 - accuracy: 0.8818 - val_loss: 0.3197 - val_accuracy: 0.8966\n",
            "Epoch 46/100\n",
            "37/37 [==============================] - 0s 3ms/step - loss: 0.3056 - accuracy: 0.8844 - val_loss: 0.3114 - val_accuracy: 0.8966\n",
            "Epoch 47/100\n",
            "37/37 [==============================] - 0s 3ms/step - loss: 0.3042 - accuracy: 0.8844 - val_loss: 0.3020 - val_accuracy: 0.8793\n",
            "Epoch 48/100\n",
            "37/37 [==============================] - 0s 2ms/step - loss: 0.3025 - accuracy: 0.8844 - val_loss: 0.3074 - val_accuracy: 0.8966\n",
            "Epoch 49/100\n",
            "37/37 [==============================] - 0s 2ms/step - loss: 0.2996 - accuracy: 0.8784 - val_loss: 0.3127 - val_accuracy: 0.8966\n",
            "Epoch 50/100\n",
            "37/37 [==============================] - 0s 3ms/step - loss: 0.2985 - accuracy: 0.8844 - val_loss: 0.2996 - val_accuracy: 0.8966\n",
            "Epoch 51/100\n",
            "37/37 [==============================] - 0s 3ms/step - loss: 0.2966 - accuracy: 0.8853 - val_loss: 0.3126 - val_accuracy: 0.8966\n",
            "Epoch 52/100\n",
            "37/37 [==============================] - 0s 3ms/step - loss: 0.2954 - accuracy: 0.8844 - val_loss: 0.2904 - val_accuracy: 0.8966\n",
            "Epoch 53/100\n",
            "37/37 [==============================] - 0s 3ms/step - loss: 0.2947 - accuracy: 0.8870 - val_loss: 0.2952 - val_accuracy: 0.8793\n",
            "Epoch 54/100\n",
            "37/37 [==============================] - 0s 3ms/step - loss: 0.2935 - accuracy: 0.8878 - val_loss: 0.2957 - val_accuracy: 0.8966\n",
            "Epoch 55/100\n",
            "37/37 [==============================] - 0s 3ms/step - loss: 0.2908 - accuracy: 0.8947 - val_loss: 0.3016 - val_accuracy: 0.8966\n",
            "Epoch 56/100\n",
            "37/37 [==============================] - 0s 3ms/step - loss: 0.2928 - accuracy: 0.8853 - val_loss: 0.2946 - val_accuracy: 0.8966\n",
            "Epoch 57/100\n",
            "37/37 [==============================] - 0s 3ms/step - loss: 0.2883 - accuracy: 0.8827 - val_loss: 0.2840 - val_accuracy: 0.8966\n",
            "Epoch 58/100\n",
            "37/37 [==============================] - 0s 3ms/step - loss: 0.2875 - accuracy: 0.8844 - val_loss: 0.2992 - val_accuracy: 0.8966\n",
            "Epoch 59/100\n",
            "37/37 [==============================] - 0s 2ms/step - loss: 0.2865 - accuracy: 0.8870 - val_loss: 0.2817 - val_accuracy: 0.8966\n",
            "Epoch 60/100\n",
            "37/37 [==============================] - 0s 2ms/step - loss: 0.2885 - accuracy: 0.8878 - val_loss: 0.2831 - val_accuracy: 0.8793\n",
            "Epoch 61/100\n",
            "37/37 [==============================] - 0s 3ms/step - loss: 0.2857 - accuracy: 0.8904 - val_loss: 0.2887 - val_accuracy: 0.8793\n",
            "Epoch 62/100\n",
            "37/37 [==============================] - 0s 3ms/step - loss: 0.2826 - accuracy: 0.8938 - val_loss: 0.2879 - val_accuracy: 0.8793\n",
            "Epoch 63/100\n",
            "37/37 [==============================] - 0s 3ms/step - loss: 0.2834 - accuracy: 0.8921 - val_loss: 0.2796 - val_accuracy: 0.8793\n",
            "Epoch 64/100\n",
            "37/37 [==============================] - 0s 3ms/step - loss: 0.2830 - accuracy: 0.8921 - val_loss: 0.2843 - val_accuracy: 0.8793\n",
            "Epoch 65/100\n",
            "37/37 [==============================] - 0s 3ms/step - loss: 0.2806 - accuracy: 0.8947 - val_loss: 0.2751 - val_accuracy: 0.8966\n",
            "Epoch 66/100\n",
            "37/37 [==============================] - 0s 3ms/step - loss: 0.2808 - accuracy: 0.8938 - val_loss: 0.2760 - val_accuracy: 0.8793\n",
            "Epoch 67/100\n",
            "37/37 [==============================] - 0s 3ms/step - loss: 0.2802 - accuracy: 0.8887 - val_loss: 0.2824 - val_accuracy: 0.8966\n",
            "Epoch 68/100\n",
            "37/37 [==============================] - 0s 3ms/step - loss: 0.2793 - accuracy: 0.8896 - val_loss: 0.2827 - val_accuracy: 0.8966\n",
            "Epoch 69/100\n",
            "37/37 [==============================] - 0s 3ms/step - loss: 0.2769 - accuracy: 0.8921 - val_loss: 0.2700 - val_accuracy: 0.8966\n",
            "Epoch 70/100\n",
            "37/37 [==============================] - 0s 2ms/step - loss: 0.2779 - accuracy: 0.8938 - val_loss: 0.2682 - val_accuracy: 0.8793\n",
            "Epoch 71/100\n",
            "37/37 [==============================] - 0s 3ms/step - loss: 0.2776 - accuracy: 0.8904 - val_loss: 0.2717 - val_accuracy: 0.8793\n",
            "Epoch 72/100\n",
            "37/37 [==============================] - 0s 3ms/step - loss: 0.2742 - accuracy: 0.8938 - val_loss: 0.2756 - val_accuracy: 0.8966\n",
            "Epoch 73/100\n",
            "37/37 [==============================] - 0s 2ms/step - loss: 0.2732 - accuracy: 0.8921 - val_loss: 0.2657 - val_accuracy: 0.8793\n",
            "Epoch 74/100\n",
            "37/37 [==============================] - 0s 2ms/step - loss: 0.2742 - accuracy: 0.8921 - val_loss: 0.2725 - val_accuracy: 0.8966\n",
            "Epoch 75/100\n",
            "37/37 [==============================] - 0s 3ms/step - loss: 0.2728 - accuracy: 0.8904 - val_loss: 0.2636 - val_accuracy: 0.8966\n",
            "Epoch 76/100\n",
            "37/37 [==============================] - 0s 3ms/step - loss: 0.2738 - accuracy: 0.8896 - val_loss: 0.2646 - val_accuracy: 0.8966\n",
            "Epoch 77/100\n",
            "37/37 [==============================] - 0s 2ms/step - loss: 0.2726 - accuracy: 0.8930 - val_loss: 0.2615 - val_accuracy: 0.8966\n",
            "Epoch 78/100\n",
            "37/37 [==============================] - 0s 2ms/step - loss: 0.2710 - accuracy: 0.8955 - val_loss: 0.2609 - val_accuracy: 0.8966\n",
            "Epoch 79/100\n",
            "37/37 [==============================] - 0s 2ms/step - loss: 0.2718 - accuracy: 0.8964 - val_loss: 0.2598 - val_accuracy: 0.8793\n",
            "Epoch 80/100\n",
            "37/37 [==============================] - 0s 2ms/step - loss: 0.2705 - accuracy: 0.8938 - val_loss: 0.2641 - val_accuracy: 0.8966\n",
            "Epoch 81/100\n",
            "37/37 [==============================] - 0s 3ms/step - loss: 0.2697 - accuracy: 0.8947 - val_loss: 0.2601 - val_accuracy: 0.9138\n",
            "Epoch 82/100\n",
            "37/37 [==============================] - 0s 2ms/step - loss: 0.2683 - accuracy: 0.8913 - val_loss: 0.2610 - val_accuracy: 0.8966\n",
            "Epoch 83/100\n",
            "37/37 [==============================] - 0s 3ms/step - loss: 0.2678 - accuracy: 0.8938 - val_loss: 0.2591 - val_accuracy: 0.9138\n",
            "Epoch 84/100\n",
            "37/37 [==============================] - 0s 2ms/step - loss: 0.2665 - accuracy: 0.8973 - val_loss: 0.2587 - val_accuracy: 0.9138\n",
            "Epoch 85/100\n",
            "37/37 [==============================] - 0s 3ms/step - loss: 0.2676 - accuracy: 0.8938 - val_loss: 0.2562 - val_accuracy: 0.9138\n",
            "Epoch 86/100\n",
            "37/37 [==============================] - 0s 3ms/step - loss: 0.2680 - accuracy: 0.8938 - val_loss: 0.2560 - val_accuracy: 0.9138\n",
            "Epoch 87/100\n",
            "37/37 [==============================] - 0s 2ms/step - loss: 0.2672 - accuracy: 0.8938 - val_loss: 0.2609 - val_accuracy: 0.8966\n",
            "Epoch 88/100\n",
            "37/37 [==============================] - 0s 3ms/step - loss: 0.2651 - accuracy: 0.8896 - val_loss: 0.2535 - val_accuracy: 0.9138\n",
            "Epoch 89/100\n",
            "37/37 [==============================] - 0s 2ms/step - loss: 0.2661 - accuracy: 0.8904 - val_loss: 0.2549 - val_accuracy: 0.9138\n",
            "Epoch 90/100\n",
            "37/37 [==============================] - 0s 2ms/step - loss: 0.2644 - accuracy: 0.8930 - val_loss: 0.2518 - val_accuracy: 0.9138\n",
            "Epoch 91/100\n",
            "37/37 [==============================] - 0s 3ms/step - loss: 0.2627 - accuracy: 0.8921 - val_loss: 0.2699 - val_accuracy: 0.8621\n",
            "Epoch 92/100\n",
            "37/37 [==============================] - 0s 2ms/step - loss: 0.2650 - accuracy: 0.8913 - val_loss: 0.2568 - val_accuracy: 0.8793\n",
            "Epoch 93/100\n",
            "37/37 [==============================] - 0s 3ms/step - loss: 0.2639 - accuracy: 0.8955 - val_loss: 0.2521 - val_accuracy: 0.8793\n",
            "Epoch 94/100\n",
            "37/37 [==============================] - 0s 2ms/step - loss: 0.2642 - accuracy: 0.8938 - val_loss: 0.2523 - val_accuracy: 0.9138\n",
            "Epoch 95/100\n",
            "37/37 [==============================] - 0s 3ms/step - loss: 0.2624 - accuracy: 0.8930 - val_loss: 0.2596 - val_accuracy: 0.8793\n",
            "Epoch 96/100\n",
            "37/37 [==============================] - 0s 3ms/step - loss: 0.2620 - accuracy: 0.8930 - val_loss: 0.2564 - val_accuracy: 0.8793\n",
            "Epoch 97/100\n",
            "37/37 [==============================] - 0s 3ms/step - loss: 0.2622 - accuracy: 0.8930 - val_loss: 0.2495 - val_accuracy: 0.9138\n",
            "Epoch 98/100\n",
            "37/37 [==============================] - 0s 2ms/step - loss: 0.2613 - accuracy: 0.8930 - val_loss: 0.2474 - val_accuracy: 0.9138\n",
            "Epoch 99/100\n",
            "37/37 [==============================] - 0s 2ms/step - loss: 0.2611 - accuracy: 0.8938 - val_loss: 0.2464 - val_accuracy: 0.8966\n",
            "Epoch 100/100\n",
            "37/37 [==============================] - 0s 2ms/step - loss: 0.2627 - accuracy: 0.8964 - val_loss: 0.2472 - val_accuracy: 0.9138\n"
          ]
        }
      ]
    },
    {
      "cell_type": "code",
      "source": [
        "model.evaluate(X_test, Y_test)[1]"
      ],
      "metadata": {
        "colab": {
          "base_uri": "https://localhost:8080/"
        },
        "id": "wj1YZJ2J60eM",
        "outputId": "b24c42b2-b3c5-4b68-f510-f038998e6ab0"
      },
      "execution_count": 59,
      "outputs": [
        {
          "output_type": "stream",
          "name": "stdout",
          "text": [
            "8/8 [==============================] - 0s 2ms/step - loss: 0.2019 - accuracy: 0.9103\n"
          ]
        },
        {
          "output_type": "execute_result",
          "data": {
            "text/plain": [
              "0.9102563858032227"
            ]
          },
          "metadata": {},
          "execution_count": 59
        }
      ]
    },
    {
      "cell_type": "code",
      "source": [
        "prediction=model.predict(X_test)\n",
        "prediction = [1 if y>=.87 else 0 for y in prediction]\n",
        "print(prediction)\n",
        "print(Y_test)"
      ],
      "metadata": {
        "colab": {
          "base_uri": "https://localhost:8080/"
        },
        "id": "WDXOKC8-C5uT",
        "outputId": "c974f062-da5f-45e9-cf00-f5bbe9f03905"
      },
      "execution_count": 62,
      "outputs": [
        {
          "output_type": "stream",
          "name": "stdout",
          "text": [
            "[1, 0, 0, 0, 0, 0, 1, 0, 1, 0, 0, 0, 0, 0, 1, 1, 0, 1, 0, 0, 1, 0, 0, 0, 0, 0, 1, 1, 0, 1, 0, 1, 0, 0, 0, 0, 1, 0, 0, 0, 1, 0, 1, 1, 1, 0, 0, 0, 0, 1, 1, 1, 0, 1, 0, 1, 1, 0, 0, 0, 0, 1, 0, 0, 0, 1, 0, 0, 0, 1, 1, 1, 1, 0, 0, 1, 0, 0, 0, 1, 0, 0, 0, 1, 1, 1, 0, 1, 0, 0, 0, 1, 1, 0, 1, 1, 1, 1, 0, 1, 1, 1, 0, 1, 0, 0, 0, 0, 0, 0, 0, 0, 0, 0, 0, 1, 0, 0, 0, 0, 1, 1, 0, 0, 0, 1, 1, 0, 1, 1, 0, 0, 0, 1, 0, 1, 0, 0, 0, 0, 0, 1, 0, 0, 0, 0, 0, 0, 0, 0, 0, 0, 0, 1, 0, 1, 0, 0, 0, 0, 0, 0, 1, 0, 1, 1, 0, 1, 0, 0, 0, 0, 0, 1, 1, 0, 0, 0, 0, 0, 1, 0, 0, 0, 0, 0, 0, 1, 1, 0, 0, 1, 0, 0, 1, 1, 1, 1, 1, 0, 0, 0, 1, 0, 1, 0, 0, 0, 0, 0, 0, 1, 1, 0, 0, 0, 0, 0, 1, 0, 0, 1, 1, 1, 0, 1, 1, 0, 0, 0, 1, 0, 0, 1]\n",
            "[1 0 0 0 0 0 1 0 1 0 0 1 0 0 1 1 0 1 0 0 1 0 0 0 0 0 1 1 0 1 0 1 0 0 0 0 1\n",
            " 0 1 0 1 0 1 1 1 1 0 0 0 1 1 1 1 1 0 1 1 0 0 0 0 1 1 0 0 1 1 0 0 1 1 1 1 0\n",
            " 1 1 0 1 1 1 1 0 0 1 1 1 0 1 1 0 1 1 1 0 1 1 1 1 0 1 1 1 0 1 0 0 1 0 0 0 0\n",
            " 0 0 0 0 1 0 0 0 0 1 1 1 0 1 1 1 0 1 1 1 0 0 1 0 1 0 1 0 0 1 1 0 0 0 0 0 1\n",
            " 1 0 0 0 0 1 0 1 1 0 0 0 0 0 1 0 1 1 1 1 1 1 0 0 1 1 1 0 0 1 0 0 1 0 0 1 0\n",
            " 0 0 1 1 1 0 1 0 0 1 1 1 1 1 1 1 0 1 0 1 0 0 1 0 0 1 1 1 0 0 1 0 0 1 0 0 1\n",
            " 1 1 0 1 1 0 0 0 1 0 1 1]\n"
          ]
        }
      ]
    },
    {
      "cell_type": "code",
      "source": [
        "#visualisé training loss et validation loss pour verifier si le model est overfitting\n",
        "plt.plot(hist.history['loss'])\n",
        "plt.plot(hist.history['val_loss'])\n",
        "plt.title('Model Loss')\n",
        "plt.ylabel('Loss')\n",
        "plt.xlabel('Epoch')\n",
        "plt.legend(['Train', 'Val'], loc='upper right')\n",
        "\n"
      ],
      "metadata": {
        "id": "rqLQHzmOQ1_9",
        "colab": {
          "base_uri": "https://localhost:8080/",
          "height": 313
        },
        "outputId": "c794f2d1-e4fd-4d3c-a35e-bab20d47c028"
      },
      "execution_count": 63,
      "outputs": [
        {
          "output_type": "execute_result",
          "data": {
            "text/plain": [
              "<matplotlib.legend.Legend at 0x7f8aed223690>"
            ]
          },
          "metadata": {},
          "execution_count": 63
        },
        {
          "output_type": "display_data",
          "data": {
            "image/png": "[encoded data removed]",
            "text/plain": [
              "<Figure size 432x288 with 1 Axes>"
            ]
          },
          "metadata": {
            "needs_background": "light"
          }
        }
      ]
    },
    {
      "cell_type": "code",
      "source": [
        "#visualisé training accuracy et validation accuracy pour verifier si le model est overfitting\n",
        "plt.plot(hist.history['accuracy'])\n",
        "plt.plot(hist.history['val_accuracy'])\n",
        "plt.title('Model Accuracy')\n",
        "plt.ylabel('Accuracy')\n",
        "plt.xlabel('Epoch')\n",
        "plt.legend(['Train', 'Val'], loc='lower right')\n"
      ],
      "metadata": {
        "colab": {
          "base_uri": "https://localhost:8080/",
          "height": 313
        },
        "id": "Z_xE260VcsHN",
        "outputId": "4789e278-d5fd-4a04-d75c-414535939e08"
      },
      "execution_count": 65,
      "outputs": [
        {
          "output_type": "execute_result",
          "data": {
            "text/plain": [
              "<matplotlib.legend.Legend at 0x7f8aecce50d0>"
            ]
          },
          "metadata": {},
          "execution_count": 65
        },
        {
          "output_type": "display_data",
          "data": {
            "image/png": "[encoded data removed]",
            "text/plain": [
              "<Figure size 432x288 with 1 Axes>"
            ]
          },
          "metadata": {
            "needs_background": "light"
          }
        }
      ]
    }
  ]
}